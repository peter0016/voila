{
 "cells": [
  {
   "cell_type": "markdown",
   "metadata": {},
   "source": [
    "# Auslese und Darstellung von KOSTRA-Werten \n",
    "(DWD KOSTRA2010R, Stand 01/2021)"
   ]
  },
  {
   "cell_type": "markdown",
   "metadata": {},
   "source": [
    "Verwendete python-Module: numpy, matplotlib, ipyleaflet, ipywidgets, json, pandas, plotly\n"
   ]
  },
  {
   "cell_type": "markdown",
   "metadata": {},
   "source": [
    "## 1. Kartenanwendung: Auswahl einer KOSTRA-Zelle"
   ]
  },
  {
   "cell_type": "code",
   "execution_count": 1,
   "metadata": {},
   "outputs": [
    {
     "data": {
      "application/vnd.jupyter.widget-view+json": {
       "model_id": "bf44fc64684f44eabf9dc00513b95edb",
       "version_major": 2,
       "version_minor": 0
      },
      "text/plain": [
       "Map(center=[51, 8], controls=(ZoomControl(options=['position', 'zoom_in_text', 'zoom_in_title', 'zoom_out_text…"
      ]
     },
     "metadata": {},
     "output_type": "display_data"
    }
   ],
   "source": [
    "#Kartenanwendung\n",
    "import numpy as np\n",
    "import json\n",
    "import numpy as np\n",
    "from ipywidgets import widgets, IntSlider, jslink, HTML, Layout,Label,VBox\n",
    "from ipyleaflet import Map, GeoData,GeoJSON, basemaps, LayersControl,Popup, ScaleControl, FullScreenControl, WidgetControl,WMSLayer\n",
    "from IPython.display import Javascript, display\n",
    "\n",
    "Tlist=[1.001,2,3,5,10,20,30,50,100] #Jährlichkeiten\n",
    "Dlist=[5,10, 15, 20, 30, 45, 60, 90, 120, 180, 240, 360, 540,720, 1080, 1440, 2880, 4320] #Dauerstufen [min]\n",
    "values=np.load('KOSTRA2010R_Matrix_numpy.npy')#KOSTRA-Werte (Numpy-Array) laden\n",
    "cell_ids=values[0,:,0]\n",
    "\n",
    "\n",
    "# Map and label widgets\n",
    "map = Map(center=[51, 8], zoom=8)\n",
    "label = Label(layout=Layout(width='100%'))\n",
    "label.value= str(55010) #dummy Wert bis zur ersten Selektion (Zelle Kölner Dom)\n",
    "zoom_slider = IntSlider(description='Zoom level:', min=0, max=15, value=8)\n",
    "jslink((zoom_slider, 'value'), (map, 'zoom'))\n",
    "widgetControl = WidgetControl(widget=zoom_slider, position='topright')\n",
    "map.add_control(widgetControl)\n",
    "map.add_control(LayersControl())\n",
    "\n",
    "wms_dtk = WMSLayer(\n",
    "    name='NW_DTK_Sammeldienst_sw',\n",
    "    url='https://www.wms.nrw.de/geobasis/wms_nw_dtk?',\n",
    "    layers='nw_dtk_sw',\n",
    "    format='image/png',\n",
    "    transparent=True,\n",
    "    attribution='nw_dtk_sw © geobasis nrw'\n",
    ")\n",
    "\n",
    "\n",
    "map.add_layer(wms_dtk)\n",
    "map.add_control(ScaleControl(position='bottomleft'))\n",
    "map.add_control(FullScreenControl(position='topright'))\n",
    "\n",
    "\n",
    "# geojson layer with hover handler\n",
    "with open('kostra.json') as f:\n",
    "    data = json.load(f)\n",
    "    \n",
    "\n",
    "for feature in data['features']:\n",
    "    feature['properties']['style'] = {\n",
    "        'color': 'grey',\n",
    "        'weight': 1,\n",
    "        'fillColor': 'blue',\n",
    "        'fillOpacity': 0.05\n",
    "    }\n",
    "\n",
    "layer = GeoJSON(name=\"DWD-KOSTRA2010R-Zellen\",data=data, hover_style={'fillColor': 'red'})\n",
    "map.add_layer(layer)\n",
    "\n",
    "#def hover_handler(event=None, feature=None, id=None, properties=None):\n",
    "#    label.value = str(properties['INDEX_RC'])\n",
    "#layer.on_hover(hover_handler)\n",
    "#map.add_layer(layer)\n",
    "#ipyw.VBox([map, label])\n",
    "\n",
    "def click_handler(type=None,event=None,feature=None,properties=None,id=None):\n",
    "    label.value= str(properties['INDEX_RC'])    \n",
    "    coords=(feature['geometry']['coordinates'][0])\n",
    "    #print(np.array(coords))\n",
    "    lo=(np.mean(coords,axis=0)[0])\n",
    "    la=(np.mean(coords,axis=0)[1])\n",
    "    text=str(feature['properties']['INDEX_RC'])\n",
    "    #print(text)\n",
    "    message = HTML(value=str('INDEX_RC: '+text))\n",
    "    popup = Popup(location=(la, lo), child=message, close_button=True, auto_close=False, close_on_escape_key=False)\n",
    "    map.add_layer(popup)\n",
    "    #run_all_cells_below()\n",
    "    \n",
    "layer.on_click(click_handler)\n",
    "cell_id=int(label.value)\n",
    "#VBox([map, label])\n",
    "map"
   ]
  },
  {
   "cell_type": "markdown",
   "metadata": {},
   "source": [
    "## 2. Auswertung der selektierten KOSTRA-Zelle"
   ]
  },
  {
   "cell_type": "code",
   "execution_count": 2,
   "metadata": {},
   "outputs": [
    {
     "data": {
      "application/vnd.jupyter.widget-view+json": {
       "model_id": "e6d7bba101064f83b7fdac37854ce49b",
       "version_major": 2,
       "version_minor": 0
      },
      "text/plain": [
       "VBox(children=(Button(description='Diagramme aktualisieren!', layout=Layout(height='50px', width='50%'), style…"
      ]
     },
     "metadata": {},
     "output_type": "display_data"
    }
   ],
   "source": [
    "\n",
    "import plotly.graph_objects as go\n",
    "import pandas as pd\n",
    "import numpy as np\n",
    "from IPython.display import clear_output\n",
    "button = widgets.Button(description=\"Diagramme aktualisieren!\",layout=Layout(width='50%', height='50px'))\n",
    "output = widgets.Output()\n",
    "display(widgets.VBox([button,output]))\n",
    "#display(button)\n",
    "\n",
    "\n",
    "def on_button_clicked(b):\n",
    "    #with output:\n",
    "    output.clear_output()\n",
    "    #clear_output()\n",
    "    #print(\"neuer Plot wird für Zelle \" + str(label.value)+ \" erstellt.\")\n",
    "    setup_ui()\n",
    "    #display(widgets.VBox([button,a]))\n",
    "\n",
    "def setup_ui():\n",
    "    with output:\n",
    "        a=plot_regen_x3()\n",
    "        display(a)\n",
    "    return output\n",
    "\n",
    "def plot_regen_x3():\n",
    "    cell_id=int(label.value) \n",
    "    cell_row=np.where(cell_id==cell_ids)[0]\n",
    "    vals=values[:,cell_row,:]\n",
    "    #Plot 3D-Surface\n",
    "    X=Dlist\n",
    "    Y=Tlist\n",
    "    X, Y = np.meshgrid(X, Y)\n",
    "    Z=vals[:,0,1:]\n",
    "    Z=np.swapaxes(Z,1,0)\n",
    "    fig = go.FigureWidget(data=[go.Surface(z=Z, x=X, y=Y)])\n",
    "    fig.update_layout(title='Regenhöhenoberfläche', autosize=False)\n",
    "    fig.update_layout(scene = dict(\n",
    "                        xaxis_title='Dauerstufe [min]',\n",
    "                        yaxis_title='Jährlichkeit [a]',\n",
    "                        zaxis_title='h [mm]'),\n",
    "                        width=600,height=600,\n",
    "                        margin=dict(r=20, b=10, l=10, t=10))\n",
    "\n",
    "    camera = dict(\n",
    "        up=dict(x=0, y=0, z=1),\n",
    "        center=dict(x=0, y=0, z=0),\n",
    "        eye=dict(x=-1.9, y=-1.6, z=1.25)\n",
    "    )\n",
    "\n",
    "    fig.update_layout(scene_camera=camera)\n",
    "\n",
    "    #2D-Plot 1\n",
    "    import plotly.express as px\n",
    "    #cell_id=int(label.value)\n",
    "    #cell_row=np.where(cell_id==cell_ids)[0]\n",
    "    #vals=values[:,cell_row,:]\n",
    "    tab=vals.transpose(0,2,1).reshape(-1,vals.shape[2])\n",
    "    df=pd.DataFrame(tab)\n",
    "    df.columns = [\"INDEX_RC\"]+['Tn_'+str(round(i)) for i in Tlist]\n",
    "    df['D_min']=Dlist\n",
    "    df.iloc[:3,1::]\n",
    "    df_=df.T\n",
    "    fig1 = px.line(df, x=\"D_min\", y=['Tn_'+str(round(i)) for i in Tlist],log_x=True)\n",
    "    fig1.update_traces(mode=\"markers+lines\", hovertemplate=None)\n",
    "    fig1.update_layout(hovermode=\"x\",legend_traceorder='reversed')\n",
    "    fig1.update_layout(title=\"DWD-KOSTRA2010R Regenhöhenlinien h [mm] über D [min],KOSTRA-Zelle \"+str(cell_id),\n",
    "                        xaxis_title=\"Dauerstufe [min]\",\n",
    "                        yaxis_title=\"h [mm]\",\n",
    "                        legend_title=\"Jährlichkeit [a]\",\n",
    "                         width=900,\n",
    "                         height=500)\n",
    "    figw1=go.FigureWidget(fig1)\n",
    "\n",
    "    #2D-PLot 2\n",
    "    df_=df.T.iloc[1:-1]\n",
    "    df_.columns = ['D_'+str(round(i)) for i in Dlist]\n",
    "    df_['Tn']=Tlist\n",
    "    fig2 = px.line(df_, x=\"Tn\", y=['D_'+str(round(i)) for i in Dlist],log_x=True)\n",
    "    fig2.update_traces(mode=\"markers+lines\", hovertemplate=None)\n",
    "    fig2.update_layout(hovermode=\"x\",legend_traceorder='reversed')\n",
    "    fig2.update_layout(title=\"DWD-KOSTRA2010R Regenhöhenlinien h [mm] über Tn [a], KOSTRA-Zelle \"+str(cell_id),\n",
    "                        xaxis_title=\"Jährlichkeit[a]\",\n",
    "                        yaxis_title=\"h [mm]\",\n",
    "                        legend_title=\"Duerstufe [min]\",\n",
    "                         width=900,\n",
    "                         height=500)\n",
    "    figw2=go.FigureWidget(fig2)\n",
    "\n",
    "\n",
    "    fig_subplots=VBox([fig,figw2,figw1])\n",
    "    #display(fig_subplots)\n",
    "    return fig_subplots\n",
    "\n",
    "setup_ui()\n",
    "button.on_click(on_button_clicked)"
   ]
  },
  {
   "cell_type": "markdown",
   "metadata": {},
   "source": [
    "## CSV-Download der selektierten KOSTRA-Tabelle"
   ]
  },
  {
   "cell_type": "code",
   "execution_count": 9,
   "metadata": {},
   "outputs": [
    {
     "data": {
      "application/vnd.jupyter.widget-view+json": {
       "model_id": "fdac79a5c71f4b589c4f07f71ee1f7ef",
       "version_major": 2,
       "version_minor": 0
      },
      "text/plain": [
       "VBox(children=(Button(description='CSV-Datei erzeugen', layout=Layout(height='50px', width='50%'), style=Butto…"
      ]
     },
     "metadata": {},
     "output_type": "display_data"
    },
    {
     "data": {
      "application/vnd.jupyter.widget-view+json": {
       "model_id": "38ccfd3f3fe94eac83cbd615a9b55812",
       "version_major": 2,
       "version_minor": 0
      },
      "text/plain": [
       "Button(description='CSV-Datei erzeugen', layout=Layout(height='50px', width='50%'), style=ButtonStyle())"
      ]
     },
     "metadata": {},
     "output_type": "display_data"
    }
   ],
   "source": [
    "\n",
    "from ipywidgets import HTML\n",
    "from IPython.display import display\n",
    "import base64\n",
    "\n",
    "button1 = widgets.Button(description=\"CSV-Datei erzeugen\",layout=Layout(width='50%', height='50px'))\n",
    "output1 = widgets.Output()\n",
    "display(widgets.VBox([button1,output1]))\n",
    "#display(button1)\n",
    "\n",
    "\n",
    "def on_button1_clicked(b):\n",
    "    #with output:\n",
    "    output1.clear_output()\n",
    "    #clear_output()\n",
    "    #print(\"neuer Plot wird für Zelle \" + str(label.value)+ \" erstellt.\")\n",
    "    get_csv()\n",
    "    #df_\n",
    "    #display(widgets.VBox([button,a]))\n",
    "\n",
    "@output1.capture()\n",
    "def get_csv():\n",
    "    cell_id=int(label.value)\n",
    "    cell_row=np.where(cell_id==cell_ids)[0]\n",
    "    vals=values[:,cell_row,:]\n",
    "    tab=vals.transpose(0,2,1).reshape(-1,vals.shape[2])\n",
    "    df=pd.DataFrame(tab)\n",
    "    df.columns = [\"INDEX_RC\"]+['Tn_'+str(round(i)) for i in Tlist]\n",
    "    df['D_min']=Dlist\n",
    "    df.iloc[:3,1::]\n",
    "    df_=df.T\n",
    "    df_=df.T.iloc[1:-1]\n",
    "    df_.columns = ['D_'+str(round(i)) for i in Dlist]\n",
    "    df_['Tn']=Tlist\n",
    "    res = str(df_)\n",
    "    #FILE\n",
    "    filename = 'KOSTRA2010R_Zelle'+str(cell_id)+'.txt'\n",
    "    b64 = base64.b64encode(res.encode())\n",
    "    payload = b64.decode()\n",
    "\n",
    "    #BUTTONS\n",
    "    html_buttons = '''<html>\n",
    "    <head>\n",
    "    <meta name=\"viewport\" content=\"width=device-width, initial-scale=1\">\n",
    "    </head>\n",
    "    <body>\n",
    "    <a download=\"{filename}\" href=\"data:text/csv;base64,{payload}\" download>\n",
    "    <button class=\"p-Widget jupyter-widgets jupyter-button widget-button mod-warning\">CSV-File Download</button>\n",
    "    </a>\n",
    "    </body>\n",
    "    </html>\n",
    "    '''\n",
    "\n",
    "    html_button = html_buttons.format(payload=payload,filename=filename)\n",
    "    display(HTML(html_button))\n",
    "    #display(widgets.VBox([HTML(html_button),print(df_)]))\n",
    "\n",
    "button1.on_click(on_button1_clicked)"
   ]
  },
  {
   "cell_type": "code",
   "execution_count": null,
   "metadata": {},
   "outputs": [],
   "source": []
  }
 ],
 "metadata": {
  "kernelspec": {
   "display_name": "Python 3",
   "language": "python",
   "name": "python3"
  },
  "language_info": {
   "codemirror_mode": {
    "name": "ipython",
    "version": 3
   },
   "file_extension": ".py",
   "mimetype": "text/x-python",
   "name": "python",
   "nbconvert_exporter": "python",
   "pygments_lexer": "ipython3",
   "version": "3.7.4"
  }
 },
 "nbformat": 4,
 "nbformat_minor": 2
}
